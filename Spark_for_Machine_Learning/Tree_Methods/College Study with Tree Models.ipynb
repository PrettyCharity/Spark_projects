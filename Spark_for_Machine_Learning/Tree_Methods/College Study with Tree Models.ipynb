{
 "cells": [
  {
   "cell_type": "markdown",
   "id": "0d5e27c2",
   "metadata": {},
   "source": [
    "## Importing the libraries"
   ]
  },
  {
   "cell_type": "code",
   "execution_count": 1,
   "id": "f092915b",
   "metadata": {},
   "outputs": [],
   "source": [
    "import findspark\n",
    "findspark.init()\n",
    "from pyspark.sql import SparkSession"
   ]
  },
  {
   "cell_type": "code",
   "execution_count": 2,
   "id": "ea7e20b7",
   "metadata": {},
   "outputs": [],
   "source": [
    "spark = SparkSession.\\\n",
    "        builder.\\\n",
    "        appName('College_Study').\\\n",
    "        getOrCreate()"
   ]
  },
  {
   "cell_type": "markdown",
   "id": "2d3ed90c",
   "metadata": {},
   "source": [
    "## Preparing the data"
   ]
  },
  {
   "cell_type": "markdown",
   "id": "ef22bed2",
   "metadata": {},
   "source": [
    "### Importing the data"
   ]
  },
  {
   "cell_type": "code",
   "execution_count": 3,
   "id": "643694e6",
   "metadata": {},
   "outputs": [
    {
     "name": "stdout",
     "output_type": "stream",
     "text": [
      "root\n",
      " |-- School: string (nullable = true)\n",
      " |-- Private: string (nullable = true)\n",
      " |-- Apps: integer (nullable = true)\n",
      " |-- Accept: integer (nullable = true)\n",
      " |-- Enroll: integer (nullable = true)\n",
      " |-- Top10perc: integer (nullable = true)\n",
      " |-- Top25perc: integer (nullable = true)\n",
      " |-- F_Undergrad: integer (nullable = true)\n",
      " |-- P_Undergrad: integer (nullable = true)\n",
      " |-- Outstate: integer (nullable = true)\n",
      " |-- Room_Board: integer (nullable = true)\n",
      " |-- Books: integer (nullable = true)\n",
      " |-- Personal: integer (nullable = true)\n",
      " |-- PhD: integer (nullable = true)\n",
      " |-- Terminal: integer (nullable = true)\n",
      " |-- S_F_Ratio: double (nullable = true)\n",
      " |-- perc_alumni: integer (nullable = true)\n",
      " |-- Expend: integer (nullable = true)\n",
      " |-- Grad_Rate: integer (nullable = true)\n",
      "\n"
     ]
    }
   ],
   "source": [
    "df = spark.read.csv('College.csv', inferSchema=True, header = True)\n",
    "df.printSchema()"
   ]
  },
  {
   "cell_type": "code",
   "execution_count": 4,
   "id": "a85d4827",
   "metadata": {},
   "outputs": [
    {
     "name": "stdout",
     "output_type": "stream",
     "text": [
      "Abilene Christian University\n",
      "Yes\n",
      "1660\n",
      "1232\n",
      "721\n",
      "23\n",
      "52\n",
      "2885\n",
      "537\n",
      "7440\n",
      "3300\n",
      "450\n",
      "2200\n",
      "70\n",
      "78\n",
      "18.1\n",
      "12\n",
      "7041\n",
      "60\n"
     ]
    }
   ],
   "source": [
    "for item in df.head(1)[0]: print(item)"
   ]
  },
  {
   "cell_type": "code",
   "execution_count": 5,
   "id": "b34e40c5",
   "metadata": {},
   "outputs": [
    {
     "name": "stdout",
     "output_type": "stream",
     "text": [
      "+-------+-----+\n",
      "|Private|count|\n",
      "+-------+-----+\n",
      "|     No|  212|\n",
      "|    Yes|  565|\n",
      "+-------+-----+\n",
      "\n"
     ]
    }
   ],
   "source": [
    "df.groupBy('Private').count().show()"
   ]
  },
  {
   "cell_type": "code",
   "execution_count": 6,
   "id": "d839c1a5",
   "metadata": {},
   "outputs": [
    {
     "data": {
      "text/plain": [
       "['School',\n",
       " 'Private',\n",
       " 'Apps',\n",
       " 'Accept',\n",
       " 'Enroll',\n",
       " 'Top10perc',\n",
       " 'Top25perc',\n",
       " 'F_Undergrad',\n",
       " 'P_Undergrad',\n",
       " 'Outstate',\n",
       " 'Room_Board',\n",
       " 'Books',\n",
       " 'Personal',\n",
       " 'PhD',\n",
       " 'Terminal',\n",
       " 'S_F_Ratio',\n",
       " 'perc_alumni',\n",
       " 'Expend',\n",
       " 'Grad_Rate']"
      ]
     },
     "execution_count": 6,
     "metadata": {},
     "output_type": "execute_result"
    }
   ],
   "source": [
    "df.columns"
   ]
  },
  {
   "cell_type": "markdown",
   "id": "26e77a20",
   "metadata": {},
   "source": [
    "### Encoding and Assembling the data"
   ]
  },
  {
   "cell_type": "code",
   "execution_count": 7,
   "id": "7928b92a",
   "metadata": {},
   "outputs": [],
   "source": [
    "from pyspark.ml.feature import VectorAssembler, StringIndexer\n",
    "assembler = VectorAssembler(inputCols=df.columns[2:], outputCol='features')\n",
    "output = assembler.transform(df)\n",
    "\n",
    "indexer = StringIndexer(inputCol='Private', outputCol='label')\n",
    "output_fixed = indexer.fit(output).transform(output)\n",
    "\n",
    "data = output_fixed.select('features', 'label')"
   ]
  },
  {
   "cell_type": "markdown",
   "id": "336e2f00",
   "metadata": {},
   "source": [
    "### Splitting the data"
   ]
  },
  {
   "cell_type": "code",
   "execution_count": 8,
   "id": "bc037835",
   "metadata": {},
   "outputs": [],
   "source": [
    "train_data, test_data = data.randomSplit([0.7, 0.3])"
   ]
  },
  {
   "cell_type": "code",
   "execution_count": 9,
   "id": "66c9fa95",
   "metadata": {},
   "outputs": [
    {
     "name": "stdout",
     "output_type": "stream",
     "text": [
      "+--------------------+-----+\n",
      "|            features|label|\n",
      "+--------------------+-----+\n",
      "|[81.0,72.0,51.0,3...|  0.0|\n",
      "|[150.0,130.0,88.0...|  0.0|\n",
      "|[152.0,128.0,75.0...|  0.0|\n",
      "|[174.0,146.0,88.0...|  0.0|\n",
      "|[191.0,165.0,63.0...|  0.0|\n",
      "+--------------------+-----+\n",
      "only showing top 5 rows\n",
      "\n"
     ]
    }
   ],
   "source": [
    "train_data.show(5)"
   ]
  },
  {
   "cell_type": "markdown",
   "id": "2b746a99",
   "metadata": {},
   "source": [
    "## Fitting and predicting with Tree Models"
   ]
  },
  {
   "cell_type": "markdown",
   "id": "aebe42fa",
   "metadata": {},
   "source": [
    "### Fitting the models"
   ]
  },
  {
   "cell_type": "code",
   "execution_count": 10,
   "id": "8cdae0fe",
   "metadata": {},
   "outputs": [],
   "source": [
    "from pyspark.ml.classification import DecisionTreeClassifier, GBTClassifier, RandomForestClassifier\n",
    "dtc = DecisionTreeClassifier().fit(train_data)\n",
    "rfc = RandomForestClassifier(numTrees=100).fit(train_data)\n",
    "gbt = GBTClassifier().fit(train_data)"
   ]
  },
  {
   "cell_type": "markdown",
   "id": "2fe4ddee",
   "metadata": {},
   "source": [
    "### Predicting with test data"
   ]
  },
  {
   "cell_type": "code",
   "execution_count": 11,
   "id": "7289f26c",
   "metadata": {},
   "outputs": [],
   "source": [
    "dtc_preds = dtc.transform(test_data)\n",
    "rfc_preds = rfc.transform(test_data)\n",
    "gbt_preds = gbt.transform(test_data)"
   ]
  },
  {
   "cell_type": "markdown",
   "id": "4db24378",
   "metadata": {},
   "source": [
    "### Evaluating the performance"
   ]
  },
  {
   "cell_type": "code",
   "execution_count": 12,
   "id": "314f8d03",
   "metadata": {},
   "outputs": [
    {
     "name": "stdout",
     "output_type": "stream",
     "text": [
      "Area Under ROC:\n",
      "\n",
      "DTC: 0.960, RFC: 0.981, GBT: 0.958\n"
     ]
    }
   ],
   "source": [
    "from pyspark.ml.evaluation import BinaryClassificationEvaluator as BCE\n",
    "my_eval = BCE()\n",
    "print('Area Under ROC:\\n')\n",
    "print('DTC: {:.3f}, RFC: {:.3f}, GBT: {:.3f}'.format(my_eval.evaluate(dtc_preds), \n",
    "                                                     my_eval.evaluate(rfc_preds), \n",
    "                                                     my_eval.evaluate(gbt_preds)))"
   ]
  },
  {
   "cell_type": "code",
   "execution_count": 13,
   "id": "bd967216",
   "metadata": {},
   "outputs": [
    {
     "name": "stdout",
     "output_type": "stream",
     "text": [
      "F1 Score:\n",
      "\n",
      "DTC: 0.916, RFC: 0.931, GBT: 0.916\n"
     ]
    }
   ],
   "source": [
    "from pyspark.ml.evaluation import MulticlassClassificationEvaluator as MCE\n",
    "my_eval_2 = MCE(metricName='f1')\n",
    "print('F1 Score:\\n')\n",
    "print('DTC: {:.3f}, RFC: {:.3f}, GBT: {:.3f}'.format(my_eval_2.evaluate(dtc_preds),\n",
    "                                                     my_eval_2.evaluate(rfc_preds),\n",
    "                                                     my_eval_2.evaluate(gbt_preds)))"
   ]
  }
 ],
 "metadata": {
  "kernelspec": {
   "display_name": "Python 3",
   "language": "python",
   "name": "python3"
  },
  "language_info": {
   "codemirror_mode": {
    "name": "ipython",
    "version": 3
   },
   "file_extension": ".py",
   "mimetype": "text/x-python",
   "name": "python",
   "nbconvert_exporter": "python",
   "pygments_lexer": "ipython3",
   "version": "3.9.12"
  }
 },
 "nbformat": 4,
 "nbformat_minor": 5
}
