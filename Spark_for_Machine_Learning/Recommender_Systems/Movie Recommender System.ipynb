{
 "cells": [
  {
   "cell_type": "code",
   "execution_count": 1,
   "id": "c99f3f05",
   "metadata": {},
   "outputs": [],
   "source": [
    "import findspark\n",
    "findspark.init()\n",
    "from pyspark.sql import SparkSession"
   ]
  },
  {
   "cell_type": "code",
   "execution_count": 2,
   "id": "7f406f5f",
   "metadata": {},
   "outputs": [],
   "source": [
    "spark = SparkSession.\\\n",
    "        builder.\\\n",
    "        appName('rec').\\\n",
    "        getOrCreate()"
   ]
  },
  {
   "cell_type": "code",
   "execution_count": 3,
   "id": "bf97ac3a",
   "metadata": {},
   "outputs": [
    {
     "name": "stdout",
     "output_type": "stream",
     "text": [
      "root\n",
      " |-- movieId: integer (nullable = true)\n",
      " |-- rating: double (nullable = true)\n",
      " |-- userId: integer (nullable = true)\n",
      "\n"
     ]
    }
   ],
   "source": [
    "df = spark.read.csv('movielens_ratings.csv', inferSchema=True, header=True)\n",
    "df.printSchema()"
   ]
  },
  {
   "cell_type": "code",
   "execution_count": 4,
   "id": "e4f8a247",
   "metadata": {},
   "outputs": [
    {
     "name": "stdout",
     "output_type": "stream",
     "text": [
      "2\n",
      "3.0\n",
      "0\n"
     ]
    }
   ],
   "source": [
    "for item in df.head(1)[0]: print(item)"
   ]
  },
  {
   "cell_type": "code",
   "execution_count": 5,
   "id": "3feb8ce2",
   "metadata": {},
   "outputs": [
    {
     "name": "stdout",
     "output_type": "stream",
     "text": [
      "+-------+------------------+------------------+------------------+\n",
      "|summary|           movieId|            rating|            userId|\n",
      "+-------+------------------+------------------+------------------+\n",
      "|  count|              1501|              1501|              1501|\n",
      "|   mean| 49.40572951365756|1.7741505662891406|14.383744170552964|\n",
      "| stddev|28.937034065088994| 1.187276166124803| 8.591040424293272|\n",
      "|    min|                 0|               1.0|                 0|\n",
      "|    max|                99|               5.0|                29|\n",
      "+-------+------------------+------------------+------------------+\n",
      "\n"
     ]
    }
   ],
   "source": [
    "df.describe().show()"
   ]
  },
  {
   "cell_type": "code",
   "execution_count": 6,
   "id": "c722f6a5",
   "metadata": {},
   "outputs": [],
   "source": [
    "train_data, test_data = df.randomSplit([0.8, 0.2])"
   ]
  },
  {
   "cell_type": "code",
   "execution_count": 7,
   "id": "4e1760c5",
   "metadata": {},
   "outputs": [
    {
     "name": "stdout",
     "output_type": "stream",
     "text": [
      "+-------+------+------+-----------+\n",
      "|movieId|rating|userId| prediction|\n",
      "+-------+------+------+-----------+\n",
      "|      1|   1.0|     7|  2.3825893|\n",
      "|      1|   1.0|    26|  1.8251883|\n",
      "|      3|   1.0|     7|  2.2677824|\n",
      "|      3|   2.0|     8|  2.1100519|\n",
      "|      3|   1.0|    17|-0.45989278|\n",
      "|      5|   2.0|     0|  0.9621633|\n",
      "|      5|   3.0|    16|  1.5061926|\n",
      "|      4|   2.0|     1|   2.454458|\n",
      "|      4|   3.0|     2|  2.6311057|\n",
      "|      4|   1.0|    23| -1.0439783|\n",
      "|      4|   1.0|    24|  3.0143018|\n",
      "|      4|   4.0|    26| 0.08363968|\n",
      "|      2|   3.0|     0|  1.3308035|\n",
      "|      2|   1.0|     3| 0.19763592|\n",
      "|      2|   4.0|     8|   2.005714|\n",
      "|      2|   1.0|    12|-0.28230345|\n",
      "|      2|   1.0|    19|-0.14066327|\n",
      "|      2|   1.0|    25|-0.91666746|\n",
      "|      0|   1.0|     8|   0.826931|\n",
      "|      0|   3.0|    10| 0.86404705|\n",
      "+-------+------+------+-----------+\n",
      "only showing top 20 rows\n",
      "\n"
     ]
    }
   ],
   "source": [
    "from pyspark.ml.recommendation import ALS\n",
    "als = ALS(maxIter=5, regParam=0.01, userCol='userId', \n",
    "                                    itemCol='movieId', \n",
    "                                    ratingCol='rating')\n",
    "\n",
    "model = als.fit(train_data)\n",
    "predictions = model.transform(test_data)\n",
    "predictions.show()"
   ]
  },
  {
   "cell_type": "code",
   "execution_count": 8,
   "id": "36b5015f",
   "metadata": {},
   "outputs": [
    {
     "name": "stdout",
     "output_type": "stream",
     "text": [
      "RMSE: 1.668\n"
     ]
    }
   ],
   "source": [
    "from pyspark.ml.evaluation import RegressionEvaluator\n",
    "evaluator = RegressionEvaluator(metricName='rmse', labelCol='rating', predictionCol='prediction')\n",
    "rmse = evaluator.evaluate(predictions)\n",
    "print('RMSE: {:.3f}'.format(rmse))"
   ]
  },
  {
   "cell_type": "code",
   "execution_count": 9,
   "id": "596a79b7",
   "metadata": {},
   "outputs": [
    {
     "name": "stdout",
     "output_type": "stream",
     "text": [
      "+-------+------+\n",
      "|movieId|userId|\n",
      "+-------+------+\n",
      "|     25|    11|\n",
      "|     36|    11|\n",
      "|     38|    11|\n",
      "|     62|    11|\n",
      "|     71|    11|\n",
      "|     72|    11|\n",
      "|     90|    11|\n",
      "|     94|    11|\n",
      "|     99|    11|\n",
      "+-------+------+\n",
      "\n"
     ]
    }
   ],
   "source": [
    "single_user = test_data.filter(test_data['userId']==11).select(['movieId', 'userId'])\n",
    "single_user.show()"
   ]
  },
  {
   "cell_type": "code",
   "execution_count": 10,
   "id": "c1c19622",
   "metadata": {},
   "outputs": [
    {
     "name": "stdout",
     "output_type": "stream",
     "text": [
      "+-------+------+-------------+\n",
      "|movieId|userId|   prediction|\n",
      "+-------+------+-------------+\n",
      "|     72|    11|    3.2811694|\n",
      "|     71|    11|   0.74047893|\n",
      "|     94|    11|    0.7389283|\n",
      "|     99|    11|    0.5197887|\n",
      "|     90|    11|   0.47392392|\n",
      "|     36|    11|-0.0063428283|\n",
      "|     38|    11|   -1.0103924|\n",
      "|     62|    11|   -2.2732852|\n",
      "|     25|    11|    -4.855615|\n",
      "+-------+------+-------------+\n",
      "\n"
     ]
    }
   ],
   "source": [
    "recommendations = model.transform(single_user)\n",
    "recommendations.orderBy('prediction', ascending=False).show()"
   ]
  }
 ],
 "metadata": {
  "kernelspec": {
   "display_name": "Python 3",
   "language": "python",
   "name": "python3"
  },
  "language_info": {
   "codemirror_mode": {
    "name": "ipython",
    "version": 3
   },
   "file_extension": ".py",
   "mimetype": "text/x-python",
   "name": "python",
   "nbconvert_exporter": "python",
   "pygments_lexer": "ipython3",
   "version": "3.9.12"
  }
 },
 "nbformat": 4,
 "nbformat_minor": 5
}
